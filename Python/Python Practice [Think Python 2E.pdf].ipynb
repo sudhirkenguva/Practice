{
 "cells": [
  {
   "cell_type": "markdown",
   "id": "f89b3a0d",
   "metadata": {},
   "source": [
    "# Think Python 2nd Edition"
   ]
  },
  {
   "cell_type": "markdown",
   "id": "c94937e0",
   "metadata": {},
   "source": [
    "Program is a sequence of un-ambiguous statements used to perform a computation. "
   ]
  },
  {
   "cell_type": "markdown",
   "id": "9a2b8562",
   "metadata": {},
   "source": [
    "### Python keywords\n",
    "False class finally is return </br>\n",
    "None continue for lambda try </br>\n",
    "True def from nonlocal while </br>\n",
    "and del global not with </br>\n",
    "as elif if or yield </br>\n",
    "assert else import pass </br>\n",
    "break except in raise"
   ]
  },
  {
   "cell_type": "code",
   "execution_count": 15,
   "id": "1283204e",
   "metadata": {},
   "outputs": [
    {
     "ename": "NameError",
     "evalue": "name 'xy' is not defined",
     "output_type": "error",
     "traceback": [
      "\u001b[1;31m---------------------------------------------------------------------------\u001b[0m",
      "\u001b[1;31mNameError\u001b[0m                                 Traceback (most recent call last)",
      "Input \u001b[1;32mIn [15]\u001b[0m, in \u001b[0;36m<cell line: 2>\u001b[1;34m()\u001b[0m\n\u001b[0;32m      1\u001b[0m x \u001b[38;5;241m=\u001b[39m y \u001b[38;5;241m=\u001b[39m \u001b[38;5;241m1.\u001b[39m\n\u001b[1;32m----> 2\u001b[0m \u001b[38;5;28mprint\u001b[39m (\u001b[43mxy\u001b[49m)\n",
      "\u001b[1;31mNameError\u001b[0m: name 'xy' is not defined"
     ]
    }
   ],
   "source": [
    "x = y = 1.\n",
    "print (xy)"
   ]
  },
  {
   "cell_type": "code",
   "execution_count": 18,
   "id": "81e13798",
   "metadata": {},
   "outputs": [
    {
     "data": {
      "text/plain": [
       "523.8095238095237"
      ]
     },
     "execution_count": 18,
     "metadata": {},
     "output_type": "execute_result"
    }
   ],
   "source": [
    "# Find the volume of sphere \n",
    "r = 5\n",
    "(4/3)*(22/7)*(r**3)"
   ]
  },
  {
   "cell_type": "markdown",
   "id": "56bd163c",
   "metadata": {},
   "source": [
    "A function is a named sequence of statements used to perform a specific action "
   ]
  },
  {
   "cell_type": "markdown",
   "id": "6de9e7f5",
   "metadata": {},
   "source": [
    "A Module is a file containing collection of related functions"
   ]
  },
  {
   "cell_type": "code",
   "execution_count": 23,
   "id": "9e1cb885",
   "metadata": {},
   "outputs": [
    {
     "name": "stdout",
     "output_type": "stream",
     "text": [
      "15\n",
      "Sudhir  Kenguva\n"
     ]
    }
   ],
   "source": [
    "def sum(x, y):\n",
    "    return x+y\n",
    "\n",
    "print(sum(5, 10))\n",
    "print(sum('Sudhir ', ' Kenguva'))"
   ]
  },
  {
   "cell_type": "markdown",
   "id": "e3ace6e9",
   "metadata": {},
   "source": [
    "Advantages of functions: \n",
    "    --> Statements with similar purpose can be grouped and hence enhance the readability, reduces program size, re-usable, easy to manage (Changes can be made in one place)"
   ]
  },
  {
   "cell_type": "code",
   "execution_count": 1,
   "id": "7fc898b3",
   "metadata": {},
   "outputs": [
    {
     "name": "stdout",
     "output_type": "stream",
     "text": [
      "                                                                Sudhir\n",
      "                                                               Kenguva\n"
     ]
    }
   ],
   "source": [
    "# Create a function to right justify the string so that the last char at 70th column of the screeen\n",
    "def right_justify(s):\n",
    "    l = len(s)\n",
    "    return ((70-l)*' '+s)\n",
    "print(right_justify('Sudhir'))\n",
    "print(right_justify('Kenguva'))"
   ]
  },
  {
   "cell_type": "code",
   "execution_count": 9,
   "id": "0955e221",
   "metadata": {},
   "outputs": [
    {
     "name": "stdout",
     "output_type": "stream",
     "text": [
      "+ - - - - + - - - - + - - - - + - - - - +\n",
      "|         |         |         |         |\n",
      "|         |         |         |         |\n",
      "|         |         |         |         |\n",
      "|         |         |         |         |\n",
      "+ - - - - + - - - - + - - - - + - - - - +\n",
      "|         |         |         |         |\n",
      "|         |         |         |         |\n",
      "|         |         |         |         |\n",
      "|         |         |         |         |\n",
      "+ - - - - + - - - - + - - - - + - - - - +\n",
      "|         |         |         |         |\n",
      "|         |         |         |         |\n",
      "|         |         |         |         |\n",
      "|         |         |         |         |\n",
      "+ - - - - + - - - - + - - - - + - - - - +\n",
      "|         |         |         |         |\n",
      "|         |         |         |         |\n",
      "|         |         |         |         |\n",
      "|         |         |         |         |\n",
      "+ - - - - + - - - - + - - - - + - - - - +\n"
     ]
    }
   ],
   "source": [
    "# Print Grid\n",
    "def print_boundary_line():\n",
    "    print(\"+ - - - - + - - - - + - - - - + - - - - +\")\n",
    "    \n",
    "def print_normal_line():\n",
    "    print(\"|         |         |         |         |\")\n",
    "    \n",
    "def print_grid():\n",
    "    print_boundary_line()\n",
    "    print_normal_line()\n",
    "    print_normal_line()\n",
    "    print_normal_line()\n",
    "    print_normal_line()\n",
    "    print_boundary_line()\n",
    "    print_normal_line()\n",
    "    print_normal_line()\n",
    "    print_normal_line()\n",
    "    print_normal_line()\n",
    "    print_boundary_line()\n",
    "    print_normal_line()\n",
    "    print_normal_line()\n",
    "    print_normal_line()\n",
    "    print_normal_line()\n",
    "    print_boundary_line()\n",
    "    print_normal_line()\n",
    "    print_normal_line()\n",
    "    print_normal_line()\n",
    "    print_normal_line()\n",
    "    print_boundary_line()\n",
    "    \n",
    "print_grid()"
   ]
  },
  {
   "cell_type": "code",
   "execution_count": 7,
   "id": "07a49710",
   "metadata": {},
   "outputs": [],
   "source": [
    "import turtle\n",
    "bob = turtle.Turtle()\n",
    "bob.fd(100)\n",
    "bob.rt(90)\n",
    "bob.fd(100)\n",
    "bob.rt(90)\n",
    "bob.fd(100)\n",
    "bob.rt(90)\n",
    "bob.fd(100)\n",
    "turtle.mainloop()"
   ]
  },
  {
   "cell_type": "code",
   "execution_count": 11,
   "id": "09610f7e",
   "metadata": {},
   "outputs": [],
   "source": [
    "import turtle\n",
    "bob = turtle.Turtle()\n",
    "for i in range(4):\n",
    "    bob.fd(100)\n",
    "    bob.rt(90)\n",
    "turtle.mainloop()"
   ]
  },
  {
   "cell_type": "code",
   "execution_count": 18,
   "id": "559f6511",
   "metadata": {},
   "outputs": [],
   "source": [
    "# Write a function called square that takes a parameter named t, which is a turtle.\n",
    "# It should use the turtle to draw a square.\n",
    "def square(t):\n",
    "    bob = t.Turtle()\n",
    "    bob.fd(100)\n",
    "    bob.rt(90)\n",
    "    bob.fd(100)\n",
    "    bob.rt(90)\n",
    "    bob.fd(100)\n",
    "    bob.rt(90)\n",
    "    bob.fd(100)\n",
    "    bob.rt(90)\n",
    "    bob.fd(100)\n",
    "    t.mainloop()\n",
    "\n",
    "import turtle \n",
    "square(turtle)\n",
    "    \n",
    "    "
   ]
  },
  {
   "cell_type": "code",
   "execution_count": null,
   "id": "74c36cf6",
   "metadata": {},
   "outputs": [],
   "source": [
    "# Write a function call that passes bob as an argument to square, and then run the\n",
    "# program again.\n",
    "\n",
    "def square(bob):\n",
    "    bob.fd(100)\n",
    "    bob.rt(90)\n",
    "    bob.fd(100)\n",
    "    bob.rt(90)\n",
    "    bob.fd(100)\n",
    "    bob.rt(90)\n",
    "    bob.fd(100)\n",
    "    bob.rt(90)\n",
    "    bob.fd(100)\n",
    "\n",
    "\n",
    "import turtle \n",
    "bob = turtle.Turtle()\n",
    "square(bob)\n",
    "turtle.mainloop()\n",
    "    "
   ]
  },
  {
   "cell_type": "code",
   "execution_count": 28,
   "id": "2b80ec24",
   "metadata": {},
   "outputs": [],
   "source": [
    "# Add another parameter, named length, to square. Modify the body so length of\n",
    "# the sides is length, and then modify the function call to provide a second argument.\n",
    "# Run the program again. Test your program with a range of values for\n",
    "# length.\n",
    "def square(bob, length):\n",
    "    bob.fd(length)\n",
    "    bob.rt(90)\n",
    "    bob.fd(length)\n",
    "    bob.rt(90)\n",
    "    bob.fd(length)\n",
    "    bob.rt(90)\n",
    "    bob.fd(length)\n",
    "\n",
    "import turtle \n",
    "bob = turtle.Turtle()\n",
    "square(bob, 300)\n",
    "turtle.mainloop()"
   ]
  },
  {
   "cell_type": "code",
   "execution_count": 38,
   "id": "45980617",
   "metadata": {},
   "outputs": [],
   "source": [
    "# Make a copy of square and change the name to polygon. Add another parameter\n",
    "# named n and modify the body so it draws an n-sided regular polygon.\n",
    "# Hint: The exterior angles of an n-sided regular polygon are 360/n degrees.\n",
    "\n",
    "def square(bob, length, n):\n",
    "    for i in range(n):\n",
    "        bob.fd(length)\n",
    "        bob.rt(360/n)\n",
    "\n",
    "import turtle \n",
    "bob = turtle.Turtle()\n",
    "square(bob, 50, 5)\n",
    "turtle.mainloop()\n",
    "\n"
   ]
  },
  {
   "cell_type": "code",
   "execution_count": 8,
   "id": "09053947",
   "metadata": {},
   "outputs": [
    {
     "name": "stdout",
     "output_type": "stream",
     "text": [
      "Initial Milli Secs  1656644086.8536396\n",
      "Days, Hours, Mins, Secs and Milli Secs 19.0 4.0 10.0 44.0 86.85363960266113\n",
      "Final Milli Secs 1656644086.8536396\n",
      "Your program is correct! Great!\n"
     ]
    }
   ],
   "source": [
    "# Exercise 5-1.\n",
    "# The time module provides a function, also named time, that returns the current\n",
    "# Greenwich Mean Time in “the epoch”, which is an arbitrary time used as a reference\n",
    "# point. On UNIX systems, the epoch is 1 January 1970.\n",
    "\n",
    "# Write a script that reads the current time and converts it to a time of day in hours,\n",
    "# minutes, and seconds, plus the number of days since the epoch.\n",
    "import time\n",
    "milli_secs = time.time()\n",
    "initial_millis = milli_secs\n",
    "print('Initial Milli Secs ', initial_millis)\n",
    "days = milli_secs // (1000*60*60*24)\n",
    "milli_secs = milli_secs % (1000*60*60*24)\n",
    "\n",
    "hours = milli_secs // (1000*60*60)\n",
    "milli_secs = milli_secs % (1000*60*60)\n",
    "\n",
    "mins = milli_secs // (1000*60)\n",
    "milli_secs = milli_secs % (1000*60)\n",
    "\n",
    "secs = milli_secs // (1000)\n",
    "milli_secs = milli_secs % (1000)\n",
    "\n",
    "print(\"Days, Hours, Mins, Secs and Milli Secs\", days, hours, mins, secs, milli_secs)\n",
    "final_millis = (days*24*60*60*1000) + (hours*60*60*1000) + (mins*60*1000) + (secs*1000) + (milli_secs)\n",
    "print(\"Final Milli Secs\", final_millis)\n",
    "if(initial_millis == final_millis):\n",
    "    print(\"Your program is correct! Great!\")\n",
    "else: \n",
    "    print(\"Your program is incorrect! Dont worry, Better luck next time :)\")"
   ]
  },
  {
   "cell_type": "code",
   "execution_count": 13,
   "id": "65ee1156",
   "metadata": {},
   "outputs": [
    {
     "name": "stdout",
     "output_type": "stream",
     "text": [
      "Enter a 5\n",
      "Enter b 7\n",
      "Enter c 9\n",
      "Enter d 11\n",
      "a, b, c, d 5 7 9 11\n",
      "Fermat was wrong!\n"
     ]
    }
   ],
   "source": [
    "# Write a function named check_fermat that takes four parameters—a, b, c and n\n",
    "# —and checks to see if Fermat’s theorem holds. If n is greater than 2 and\n",
    "# a**n + b**n = c**n\n",
    "# the program should print, “Holy smokes, Fermat was wrong!” Otherwise the program\n",
    "# should print, “No, that doesn’t work.”\n",
    "def check_fermat(a, b, c, n):\n",
    "    if((a**n + b**n) == c**n):\n",
    "        print(\"Fermat Theorem Holds\")\n",
    "    else: \n",
    "        print(\"Fermat was wrong!\")\n",
    "        \n",
    "a = int(input(\"Enter a \"))\n",
    "b = int(input(\"Enter b \"))\n",
    "c = int(input(\"Enter c \"))\n",
    "d = int(input(\"Enter d \"))\n",
    "print(\"a, b, c, d\", a, b, c, d)\n",
    "check_fermat(a, b, c, d)"
   ]
  },
  {
   "cell_type": "code",
   "execution_count": null,
   "id": "3a12b9bf",
   "metadata": {},
   "outputs": [],
   "source": [
    "# Write a function that prompts the user to input three stick lengths, converts them\n",
    "# to integers, and uses is_triangle to check whether sticks with the given lengths\n",
    "# can form a triangle.\n",
    "\n",
    "# If any of the three lengths is greater than the sum of the other two, then you cannot\n",
    "# form a triangle. Otherwise, you can. (If the sum of two lengths equals the third, they\n",
    "# form what is called a “degenerate” triangle.)"
   ]
  },
  {
   "cell_type": "code",
   "execution_count": null,
   "id": "8f85db75",
   "metadata": {},
   "outputs": [],
   "source": [
    "def draw(t, length, n):\n",
    "    if n == 0:\n",
    "        return\n",
    "    angle = 50\n",
    "    t.fd(length*n)\n",
    "    t.lt(angle)\n",
    "    draw(t, length, n-1)\n",
    "    t.rt(2*angle)\n",
    "    draw(t, length, n-1)\n",
    "    t.lt(angle)\n",
    "    t.bk(length*n)\n",
    "\n",
    "import turtle\n",
    "t = turtle.Turtle()\n",
    "draw(t, 10, -10)"
   ]
  },
  {
   "cell_type": "markdown",
   "id": "c35733ac",
   "metadata": {},
   "source": [
    "### Recursive Programs "
   ]
  },
  {
   "cell_type": "code",
   "execution_count": 25,
   "id": "4eba7d5d",
   "metadata": {},
   "outputs": [
    {
     "name": "stdout",
     "output_type": "stream",
     "text": [
      "1\n"
     ]
    }
   ],
   "source": [
    "# Finding factorial of a number using recursion\n",
    "# n! = n * (n-1)!\n",
    "# 0! = 1 \n",
    "def factorial(n):\n",
    "    if(n <= 0):\n",
    "        return 1\n",
    "    return n * factorial(n-1)\n",
    "\n",
    "print(factorial(1))"
   ]
  },
  {
   "cell_type": "code",
   "execution_count": 35,
   "id": "ff8006fa",
   "metadata": {},
   "outputs": [
    {
     "name": "stdout",
     "output_type": "stream",
     "text": [
      "8\n"
     ]
    }
   ],
   "source": [
    "# Printing fibinacci series using recursion \n",
    "# series of length 6 = 0 1 1 2 3 5 8 13 21 34\n",
    "\n",
    "def fibonacci(n):\n",
    "    if n == 0:\n",
    "        return 0\n",
    "    if n == 1: \n",
    "        return 1\n",
    "    return fibonacci(n-1) + fibonacci(n-2)\n",
    "\n",
    "print(fibonacci(6))"
   ]
  },
  {
   "cell_type": "markdown",
   "id": "9352b415",
   "metadata": {},
   "source": [
    "# From Python Documentation \n",
    "### https://docs.python.org/3/library"
   ]
  },
  {
   "cell_type": "code",
   "execution_count": 4,
   "id": "649587f2",
   "metadata": {},
   "outputs": [
    {
     "name": "stdout",
     "output_type": "stream",
     "text": [
      "5\n"
     ]
    }
   ],
   "source": [
    "a = abs(-5)\n",
    "print(a)"
   ]
  },
  {
   "cell_type": "code",
   "execution_count": 16,
   "id": "9044ee1f",
   "metadata": {},
   "outputs": [
    {
     "name": "stdout",
     "output_type": "stream",
     "text": [
      "'Sudhir\\nKenguva'\n"
     ]
    }
   ],
   "source": [
    "length = len(ascii(\"\"\"Sudhir\n",
    "Kenguva\"\"\"))\n",
    "print(ascii(\"\"\"Sudhir\n",
    "Kenguva\"\"\"))"
   ]
  },
  {
   "cell_type": "code",
   "execution_count": 17,
   "id": "6861610e",
   "metadata": {},
   "outputs": [
    {
     "data": {
      "text/plain": [
       "'0b11'"
      ]
     },
     "execution_count": 17,
     "metadata": {},
     "output_type": "execute_result"
    }
   ],
   "source": [
    "bin(3)"
   ]
  },
  {
   "cell_type": "code",
   "execution_count": 18,
   "id": "85d870a2",
   "metadata": {},
   "outputs": [
    {
     "data": {
      "text/plain": [
       "['In',\n",
       " 'Out',\n",
       " '_',\n",
       " '_17',\n",
       " '__',\n",
       " '___',\n",
       " '__builtin__',\n",
       " '__builtins__',\n",
       " '__doc__',\n",
       " '__loader__',\n",
       " '__name__',\n",
       " '__package__',\n",
       " '__spec__',\n",
       " '_dh',\n",
       " '_i',\n",
       " '_i1',\n",
       " '_i10',\n",
       " '_i11',\n",
       " '_i12',\n",
       " '_i13',\n",
       " '_i14',\n",
       " '_i15',\n",
       " '_i16',\n",
       " '_i17',\n",
       " '_i18',\n",
       " '_i2',\n",
       " '_i3',\n",
       " '_i4',\n",
       " '_i5',\n",
       " '_i6',\n",
       " '_i7',\n",
       " '_i8',\n",
       " '_i9',\n",
       " '_ih',\n",
       " '_ii',\n",
       " '_iii',\n",
       " '_oh',\n",
       " 'a',\n",
       " 'exit',\n",
       " 'get_ipython',\n",
       " 'length',\n",
       " 'quit']"
      ]
     },
     "execution_count": 18,
     "metadata": {},
     "output_type": "execute_result"
    }
   ],
   "source": [
    "dir()"
   ]
  },
  {
   "cell_type": "code",
   "execution_count": 1,
   "id": "e8dbeff9",
   "metadata": {},
   "outputs": [
    {
     "data": {
      "text/plain": [
       "'C:\\\\Users\\\\ksudh\\\\AppData\\\\Local\\\\Temp\\\\tmpki7d6xec.html'"
      ]
     },
     "execution_count": 1,
     "metadata": {},
     "output_type": "execute_result"
    }
   ],
   "source": [
    "# pyinstrument\n",
    "from pyinstrument import Profiler\n",
    "import math\n",
    "profiler = Profiler()\n",
    "profiler.start()\n",
    "for i in range(20000):\n",
    "    math.sqrt(math.sqrt(i+1))\n",
    "profiler.stop()\n",
    "profiler.open_in_browser()"
   ]
  },
  {
   "cell_type": "code",
   "execution_count": null,
   "id": "6ca39b6c",
   "metadata": {},
   "outputs": [],
   "source": []
  }
 ],
 "metadata": {
  "kernelspec": {
   "display_name": "Python 3 (ipykernel)",
   "language": "python",
   "name": "python3"
  },
  "language_info": {
   "codemirror_mode": {
    "name": "ipython",
    "version": 3
   },
   "file_extension": ".py",
   "mimetype": "text/x-python",
   "name": "python",
   "nbconvert_exporter": "python",
   "pygments_lexer": "ipython3",
   "version": "3.9.12"
  },
  "widgets": {
   "application/vnd.jupyter.widget-state+json": {
    "state": {},
    "version_major": 2,
    "version_minor": 0
   }
  }
 },
 "nbformat": 4,
 "nbformat_minor": 5
}
